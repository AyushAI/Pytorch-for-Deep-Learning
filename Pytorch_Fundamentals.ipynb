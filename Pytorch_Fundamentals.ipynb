{
  "nbformat": 4,
  "nbformat_minor": 0,
  "metadata": {
    "colab": {
      "provenance": []
    },
    "kernelspec": {
      "name": "python3",
      "display_name": "Python 3"
    },
    "language_info": {
      "name": "python"
    }
  },
  "cells": [
    {
      "cell_type": "code",
      "execution_count": 2,
      "metadata": {
        "id": "-L1wqI_ZW0pn"
      },
      "outputs": [],
      "source": [
        "import torch\n",
        "import pandas as pd\n",
        "import numpy as np\n",
        "import matplotlib.pyplot as plt"
      ]
    },
    {
      "cell_type": "code",
      "source": [
        "print(torch.__version__)"
      ],
      "metadata": {
        "colab": {
          "base_uri": "https://localhost:8080/"
        },
        "id": "7e-Fms8QXF5c",
        "outputId": "a5acef55-80b3-43c8-a05b-df2da323b3a1"
      },
      "execution_count": 3,
      "outputs": [
        {
          "output_type": "stream",
          "name": "stdout",
          "text": [
            "2.8.0+cu126\n"
          ]
        }
      ]
    },
    {
      "cell_type": "markdown",
      "source": [
        "# Creating Tensors"
      ],
      "metadata": {
        "id": "o4Sufo7cXc8b"
      }
    },
    {
      "cell_type": "code",
      "source": [
        "# scalar\n",
        "scalar = torch.tensor(7)\n",
        "scalar"
      ],
      "metadata": {
        "colab": {
          "base_uri": "https://localhost:8080/"
        },
        "id": "CWb5p4JQXJuh",
        "outputId": "9b6f31a3-217b-4aff-adc7-c5ea6f3facd9"
      },
      "execution_count": 4,
      "outputs": [
        {
          "output_type": "execute_result",
          "data": {
            "text/plain": [
              "tensor(7)"
            ]
          },
          "metadata": {},
          "execution_count": 4
        }
      ]
    },
    {
      "cell_type": "code",
      "source": [
        "# know the dimension of the tensor\n",
        "scalar.ndim"
      ],
      "metadata": {
        "colab": {
          "base_uri": "https://localhost:8080/"
        },
        "id": "YwUXa4WbXoOj",
        "outputId": "369944a0-e238-43ce-bb5a-4ff3c22efe41"
      },
      "execution_count": 5,
      "outputs": [
        {
          "output_type": "execute_result",
          "data": {
            "text/plain": [
              "0"
            ]
          },
          "metadata": {},
          "execution_count": 5
        }
      ]
    },
    {
      "cell_type": "code",
      "source": [
        "# get tensor back as a python int\n",
        "scalar.item()"
      ],
      "metadata": {
        "colab": {
          "base_uri": "https://localhost:8080/"
        },
        "id": "QrHKiIGjX0xg",
        "outputId": "73eeddfb-d694-454f-fa04-6e54ef9f6de3"
      },
      "execution_count": 6,
      "outputs": [
        {
          "output_type": "execute_result",
          "data": {
            "text/plain": [
              "7"
            ]
          },
          "metadata": {},
          "execution_count": 6
        }
      ]
    },
    {
      "cell_type": "code",
      "source": [
        "# vector\n",
        "vector = torch.tensor([1,2,3,45])"
      ],
      "metadata": {
        "id": "RQvvMIdfYHsc"
      },
      "execution_count": 7,
      "outputs": []
    },
    {
      "cell_type": "code",
      "source": [
        "vector.ndim"
      ],
      "metadata": {
        "colab": {
          "base_uri": "https://localhost:8080/"
        },
        "id": "TF_gZrVoYcVK",
        "outputId": "53f79e8f-3c8b-4cec-83a8-b59da976fab5"
      },
      "execution_count": 8,
      "outputs": [
        {
          "output_type": "execute_result",
          "data": {
            "text/plain": [
              "1"
            ]
          },
          "metadata": {},
          "execution_count": 8
        }
      ]
    },
    {
      "cell_type": "code",
      "source": [
        "vector.shape"
      ],
      "metadata": {
        "colab": {
          "base_uri": "https://localhost:8080/"
        },
        "id": "ds3AI-pVYmGj",
        "outputId": "67474d67-b68a-47f2-8f62-3446133e38b9"
      },
      "execution_count": 9,
      "outputs": [
        {
          "output_type": "execute_result",
          "data": {
            "text/plain": [
              "torch.Size([4])"
            ]
          },
          "metadata": {},
          "execution_count": 9
        }
      ]
    },
    {
      "cell_type": "code",
      "source": [
        "#   MATRIX\n",
        "MATRIX = torch.tensor([[11,22],\n",
        "                       [33,44]])"
      ],
      "metadata": {
        "id": "pADBAuHQYoIo"
      },
      "execution_count": 10,
      "outputs": []
    },
    {
      "cell_type": "code",
      "source": [
        "MATRIX.ndim"
      ],
      "metadata": {
        "colab": {
          "base_uri": "https://localhost:8080/"
        },
        "id": "qdtaAN0mY2HA",
        "outputId": "a07c087f-c69a-4811-804c-b74fb28be04e"
      },
      "execution_count": 11,
      "outputs": [
        {
          "output_type": "execute_result",
          "data": {
            "text/plain": [
              "2"
            ]
          },
          "metadata": {},
          "execution_count": 11
        }
      ]
    },
    {
      "cell_type": "code",
      "source": [
        "MATRIX[1]"
      ],
      "metadata": {
        "colab": {
          "base_uri": "https://localhost:8080/"
        },
        "id": "lclOfNgDY4jq",
        "outputId": "88763fe9-3a86-4d24-b448-bec2ad04303f"
      },
      "execution_count": 12,
      "outputs": [
        {
          "output_type": "execute_result",
          "data": {
            "text/plain": [
              "tensor([33, 44])"
            ]
          },
          "metadata": {},
          "execution_count": 12
        }
      ]
    },
    {
      "cell_type": "code",
      "source": [
        "MATRIX.shape"
      ],
      "metadata": {
        "colab": {
          "base_uri": "https://localhost:8080/"
        },
        "id": "qzCQiwj4Y694",
        "outputId": "beb3c0fe-8f1f-4eba-b9c5-5e1e5e9d085d"
      },
      "execution_count": 13,
      "outputs": [
        {
          "output_type": "execute_result",
          "data": {
            "text/plain": [
              "torch.Size([2, 2])"
            ]
          },
          "metadata": {},
          "execution_count": 13
        }
      ]
    },
    {
      "cell_type": "code",
      "source": [
        "# TENSOR\n",
        "TENSOR = torch.tensor([[[1,1,1],\n",
        "                        [2,2,2],\n",
        "                        [3,3,3]]])\n",
        "\n",
        "TENSOR"
      ],
      "metadata": {
        "colab": {
          "base_uri": "https://localhost:8080/"
        },
        "id": "KVWES5DJZEOD",
        "outputId": "9547f976-e856-4bf6-c9d4-74783b0afd05"
      },
      "execution_count": 14,
      "outputs": [
        {
          "output_type": "execute_result",
          "data": {
            "text/plain": [
              "tensor([[[1, 1, 1],\n",
              "         [2, 2, 2],\n",
              "         [3, 3, 3]]])"
            ]
          },
          "metadata": {},
          "execution_count": 14
        }
      ]
    },
    {
      "cell_type": "code",
      "source": [
        "TENSOR.ndim"
      ],
      "metadata": {
        "colab": {
          "base_uri": "https://localhost:8080/"
        },
        "id": "LHrWuZ5pZcNy",
        "outputId": "bb70e7e3-cf37-4d6f-aec3-fb9e9a9c630b"
      },
      "execution_count": 15,
      "outputs": [
        {
          "output_type": "execute_result",
          "data": {
            "text/plain": [
              "3"
            ]
          },
          "metadata": {},
          "execution_count": 15
        }
      ]
    },
    {
      "cell_type": "code",
      "source": [
        "TENSOR.shape"
      ],
      "metadata": {
        "colab": {
          "base_uri": "https://localhost:8080/"
        },
        "id": "FTOoS2yUZmZ3",
        "outputId": "76017659-115b-420c-d5f1-118825900071"
      },
      "execution_count": 16,
      "outputs": [
        {
          "output_type": "execute_result",
          "data": {
            "text/plain": [
              "torch.Size([1, 3, 3])"
            ]
          },
          "metadata": {},
          "execution_count": 16
        }
      ]
    },
    {
      "cell_type": "code",
      "source": [
        "TENSOR[0]"
      ],
      "metadata": {
        "colab": {
          "base_uri": "https://localhost:8080/"
        },
        "id": "oBXidn87ZoRV",
        "outputId": "3a929675-640b-429c-d4ee-ef87cb25a72a"
      },
      "execution_count": 17,
      "outputs": [
        {
          "output_type": "execute_result",
          "data": {
            "text/plain": [
              "tensor([[1, 1, 1],\n",
              "        [2, 2, 2],\n",
              "        [3, 3, 3]])"
            ]
          },
          "metadata": {},
          "execution_count": 17
        }
      ]
    },
    {
      "cell_type": "code",
      "source": [
        "TENSOR[0,1]"
      ],
      "metadata": {
        "colab": {
          "base_uri": "https://localhost:8080/"
        },
        "id": "xpMoTb7AZz5_",
        "outputId": "b52794df-bae0-484c-bc2a-ef4209adb756"
      },
      "execution_count": 18,
      "outputs": [
        {
          "output_type": "execute_result",
          "data": {
            "text/plain": [
              "tensor([2, 2, 2])"
            ]
          },
          "metadata": {},
          "execution_count": 18
        }
      ]
    },
    {
      "cell_type": "code",
      "source": [
        "TENSOR[0,0]"
      ],
      "metadata": {
        "colab": {
          "base_uri": "https://localhost:8080/"
        },
        "id": "0MMrNhMMZ7ke",
        "outputId": "68ffc568-8e62-4ca0-80aa-a18a29340075"
      },
      "execution_count": 19,
      "outputs": [
        {
          "output_type": "execute_result",
          "data": {
            "text/plain": [
              "tensor([1, 1, 1])"
            ]
          },
          "metadata": {},
          "execution_count": 19
        }
      ]
    },
    {
      "cell_type": "code",
      "source": [
        "TENSOR[0,2]"
      ],
      "metadata": {
        "colab": {
          "base_uri": "https://localhost:8080/"
        },
        "id": "3uqQyVHkaBY9",
        "outputId": "42bce130-ddea-4c94-c0d6-ed6de34bc742"
      },
      "execution_count": 20,
      "outputs": [
        {
          "output_type": "execute_result",
          "data": {
            "text/plain": [
              "tensor([3, 3, 3])"
            ]
          },
          "metadata": {},
          "execution_count": 20
        }
      ]
    },
    {
      "cell_type": "code",
      "source": [
        "TENSOR[0,2,2]"
      ],
      "metadata": {
        "colab": {
          "base_uri": "https://localhost:8080/"
        },
        "id": "zR77H-qFaFdF",
        "outputId": "f78e5ddd-bcf7-4e76-8413-928b6754ee24"
      },
      "execution_count": 21,
      "outputs": [
        {
          "output_type": "execute_result",
          "data": {
            "text/plain": [
              "tensor(3)"
            ]
          },
          "metadata": {},
          "execution_count": 21
        }
      ]
    },
    {
      "cell_type": "markdown",
      "source": [
        "### Random Tensors"
      ],
      "metadata": {
        "id": "HEgyl4ydbROU"
      }
    },
    {
      "cell_type": "code",
      "source": [
        "# create a random tensor\n",
        "random_tensor = torch.rand(3,4)\n",
        "random_tensor"
      ],
      "metadata": {
        "colab": {
          "base_uri": "https://localhost:8080/"
        },
        "id": "CQO_La9-bJkq",
        "outputId": "07364b24-879b-43e7-b2cc-2d2f2f82f8a9"
      },
      "execution_count": 22,
      "outputs": [
        {
          "output_type": "execute_result",
          "data": {
            "text/plain": [
              "tensor([[0.0950, 0.1004, 0.6432, 0.5569],\n",
              "        [0.7945, 0.1476, 0.5908, 0.8108],\n",
              "        [0.1042, 0.5327, 0.0236, 0.5416]])"
            ]
          },
          "metadata": {},
          "execution_count": 22
        }
      ]
    },
    {
      "cell_type": "code",
      "source": [
        "random_tensor.ndim"
      ],
      "metadata": {
        "colab": {
          "base_uri": "https://localhost:8080/"
        },
        "id": "hTag7MEabqly",
        "outputId": "b0c5683b-6ebd-402b-9b48-48284b4840f6"
      },
      "execution_count": 23,
      "outputs": [
        {
          "output_type": "execute_result",
          "data": {
            "text/plain": [
              "2"
            ]
          },
          "metadata": {},
          "execution_count": 23
        }
      ]
    },
    {
      "cell_type": "code",
      "source": [
        "tensor1 = torch.rand((1,10,10))\n",
        "tensor1"
      ],
      "metadata": {
        "colab": {
          "base_uri": "https://localhost:8080/"
        },
        "id": "v-xkhx5KbwZc",
        "outputId": "38fb85be-87de-479d-8011-1666e7e61666"
      },
      "execution_count": 24,
      "outputs": [
        {
          "output_type": "execute_result",
          "data": {
            "text/plain": [
              "tensor([[[5.9035e-02, 9.7009e-01, 1.1264e-01, 1.8958e-01, 4.9042e-01,\n",
              "          2.6223e-01, 4.7956e-01, 1.5895e-01, 2.9079e-01, 5.6734e-01],\n",
              "         [9.0894e-01, 5.3681e-01, 5.2837e-02, 7.6790e-01, 9.7768e-01,\n",
              "          4.3837e-01, 8.0054e-01, 8.8541e-01, 8.4424e-02, 1.4968e-01],\n",
              "         [8.0779e-01, 2.7226e-01, 4.2763e-01, 7.7952e-01, 5.9249e-01,\n",
              "          5.1600e-01, 9.9700e-01, 9.1168e-01, 8.3488e-01, 8.9625e-01],\n",
              "         [9.4319e-01, 2.5640e-01, 1.7482e-01, 8.4408e-01, 6.1430e-01,\n",
              "          1.3567e-01, 7.6670e-02, 1.3025e-01, 5.8076e-01, 7.4940e-01],\n",
              "         [6.0942e-01, 1.0676e-01, 3.4653e-01, 5.3222e-01, 5.1460e-01,\n",
              "          9.9203e-01, 3.8787e-01, 1.5783e-01, 7.6761e-01, 8.7981e-01],\n",
              "         [4.0704e-01, 8.9373e-01, 1.3796e-01, 6.2478e-01, 7.2279e-01,\n",
              "          2.3997e-01, 1.7596e-01, 6.2587e-02, 5.8190e-02, 2.2348e-01],\n",
              "         [7.9396e-01, 5.7051e-01, 7.1417e-01, 7.7104e-01, 3.5891e-01,\n",
              "          8.7392e-02, 9.3723e-01, 3.3339e-01, 9.8175e-01, 8.5639e-01],\n",
              "         [6.1946e-01, 4.5023e-01, 1.0521e-01, 5.1845e-01, 2.6512e-04,\n",
              "          3.4700e-01, 6.5746e-01, 4.0054e-01, 7.8444e-01, 3.6480e-01],\n",
              "         [7.7489e-01, 8.6293e-01, 1.6816e-01, 5.8934e-01, 3.0497e-01,\n",
              "          2.8552e-01, 1.8188e-02, 1.4573e-01, 3.8465e-01, 2.8044e-01],\n",
              "         [9.3428e-01, 7.7737e-01, 4.7446e-01, 6.0695e-01, 6.1974e-01,\n",
              "          6.3050e-01, 5.7208e-01, 4.6874e-01, 8.8395e-01, 5.6377e-01]]])"
            ]
          },
          "metadata": {},
          "execution_count": 24
        }
      ]
    },
    {
      "cell_type": "code",
      "source": [
        "tensor1.ndim"
      ],
      "metadata": {
        "colab": {
          "base_uri": "https://localhost:8080/"
        },
        "id": "6o47TuXFb2yK",
        "outputId": "aea0e4d1-76df-4d4d-ed59-a6c78fab532c"
      },
      "execution_count": 25,
      "outputs": [
        {
          "output_type": "execute_result",
          "data": {
            "text/plain": [
              "3"
            ]
          },
          "metadata": {},
          "execution_count": 25
        }
      ]
    },
    {
      "cell_type": "code",
      "source": [
        "random_tensor"
      ],
      "metadata": {
        "colab": {
          "base_uri": "https://localhost:8080/"
        },
        "id": "l_pZohGfb6PX",
        "outputId": "ac99c333-3833-4b4f-ce0b-e92d84452d23"
      },
      "execution_count": 26,
      "outputs": [
        {
          "output_type": "execute_result",
          "data": {
            "text/plain": [
              "tensor([[0.0950, 0.1004, 0.6432, 0.5569],\n",
              "        [0.7945, 0.1476, 0.5908, 0.8108],\n",
              "        [0.1042, 0.5327, 0.0236, 0.5416]])"
            ]
          },
          "metadata": {},
          "execution_count": 26
        }
      ]
    },
    {
      "cell_type": "code",
      "source": [
        "# random tensor with image shape\n",
        "random_image_size_tensor = torch.rand(224,224,3)\n",
        "random_image_size_tensor"
      ],
      "metadata": {
        "colab": {
          "base_uri": "https://localhost:8080/"
        },
        "id": "9dermWXKcEgK",
        "outputId": "d5b1dcf1-56ca-4555-b9c2-712da55f49f9"
      },
      "execution_count": 27,
      "outputs": [
        {
          "output_type": "execute_result",
          "data": {
            "text/plain": [
              "tensor([[[0.0109, 0.1914, 0.2508],\n",
              "         [0.0087, 0.1291, 0.2467],\n",
              "         [0.4241, 0.8860, 0.0254],\n",
              "         ...,\n",
              "         [0.2824, 0.7661, 0.3434],\n",
              "         [0.5381, 0.2234, 0.5451],\n",
              "         [0.7200, 0.4971, 0.4069]],\n",
              "\n",
              "        [[0.3173, 0.5350, 0.4504],\n",
              "         [0.5424, 0.7026, 0.3982],\n",
              "         [0.4453, 0.2410, 0.9845],\n",
              "         ...,\n",
              "         [0.0184, 0.3329, 0.1528],\n",
              "         [0.4612, 0.7162, 0.5647],\n",
              "         [0.1837, 0.7123, 0.2742]],\n",
              "\n",
              "        [[0.7072, 0.8146, 0.2011],\n",
              "         [0.6832, 0.6587, 0.0587],\n",
              "         [0.9489, 0.5099, 0.7011],\n",
              "         ...,\n",
              "         [0.5984, 0.2670, 0.1834],\n",
              "         [0.5891, 0.7875, 0.3252],\n",
              "         [0.2596, 0.3734, 0.9812]],\n",
              "\n",
              "        ...,\n",
              "\n",
              "        [[0.2771, 0.4692, 0.7604],\n",
              "         [0.1825, 0.1068, 0.5527],\n",
              "         [0.8574, 0.3227, 0.7182],\n",
              "         ...,\n",
              "         [0.1554, 0.7374, 0.8541],\n",
              "         [0.6371, 0.3714, 0.4574],\n",
              "         [0.8968, 0.0617, 0.4036]],\n",
              "\n",
              "        [[0.5482, 0.4027, 0.4142],\n",
              "         [0.5656, 0.7465, 0.5022],\n",
              "         [0.2433, 0.8356, 0.9158],\n",
              "         ...,\n",
              "         [0.3648, 0.1479, 0.9359],\n",
              "         [0.6774, 0.7015, 0.7118],\n",
              "         [0.6281, 0.5331, 0.1431]],\n",
              "\n",
              "        [[0.8478, 0.7995, 0.4850],\n",
              "         [0.8505, 0.4058, 0.5365],\n",
              "         [0.0244, 0.8382, 0.4131],\n",
              "         ...,\n",
              "         [0.1448, 0.9049, 0.0814],\n",
              "         [0.9760, 0.7275, 0.1562],\n",
              "         [0.5102, 0.3885, 0.0240]]])"
            ]
          },
          "metadata": {},
          "execution_count": 27
        }
      ]
    },
    {
      "cell_type": "code",
      "source": [
        "random_image_size_tensor.ndim"
      ],
      "metadata": {
        "colab": {
          "base_uri": "https://localhost:8080/"
        },
        "id": "UHHCgP-3cXt1",
        "outputId": "59466eea-ada7-4e0e-e3d7-deef256f3e55"
      },
      "execution_count": 28,
      "outputs": [
        {
          "output_type": "execute_result",
          "data": {
            "text/plain": [
              "3"
            ]
          },
          "metadata": {},
          "execution_count": 28
        }
      ]
    },
    {
      "cell_type": "code",
      "source": [
        "random_image_size_tensor.shape"
      ],
      "metadata": {
        "colab": {
          "base_uri": "https://localhost:8080/"
        },
        "id": "7akhhWBKcjmx",
        "outputId": "c7db56fb-4dc6-4425-e32e-1cdf3749fb97"
      },
      "execution_count": 29,
      "outputs": [
        {
          "output_type": "execute_result",
          "data": {
            "text/plain": [
              "torch.Size([224, 224, 3])"
            ]
          },
          "metadata": {},
          "execution_count": 29
        }
      ]
    },
    {
      "cell_type": "code",
      "source": [
        "torch.rand(3,3)"
      ],
      "metadata": {
        "colab": {
          "base_uri": "https://localhost:8080/"
        },
        "id": "kJApVOKVcojE",
        "outputId": "4527f2cc-5d09-41c9-d3b4-1008cfe550e9"
      },
      "execution_count": 30,
      "outputs": [
        {
          "output_type": "execute_result",
          "data": {
            "text/plain": [
              "tensor([[0.2537, 0.4337, 0.3284],\n",
              "        [0.3142, 0.0436, 0.9718],\n",
              "        [0.3594, 0.1874, 0.7724]])"
            ]
          },
          "metadata": {},
          "execution_count": 30
        }
      ]
    },
    {
      "cell_type": "code",
      "source": [
        "# Zeros tensor\n",
        "\n",
        "zeros_tensor = torch.zeros(3,4)\n",
        "zeros_tensor"
      ],
      "metadata": {
        "colab": {
          "base_uri": "https://localhost:8080/"
        },
        "id": "gqCuBHxQc92Z",
        "outputId": "84cd256f-1ade-43dc-dc93-52730ccbf798"
      },
      "execution_count": 31,
      "outputs": [
        {
          "output_type": "execute_result",
          "data": {
            "text/plain": [
              "tensor([[0., 0., 0., 0.],\n",
              "        [0., 0., 0., 0.],\n",
              "        [0., 0., 0., 0.]])"
            ]
          },
          "metadata": {},
          "execution_count": 31
        }
      ]
    },
    {
      "cell_type": "code",
      "source": [
        "# Ones tensor\n",
        "\n",
        "ones_tensor = torch.ones(3,4)\n",
        "ones_tensor"
      ],
      "metadata": {
        "colab": {
          "base_uri": "https://localhost:8080/"
        },
        "id": "WHDOML3zdFzq",
        "outputId": "d6f3d1db-5110-44bb-d3fc-fd22436a66b0"
      },
      "execution_count": 32,
      "outputs": [
        {
          "output_type": "execute_result",
          "data": {
            "text/plain": [
              "tensor([[1., 1., 1., 1.],\n",
              "        [1., 1., 1., 1.],\n",
              "        [1., 1., 1., 1.]])"
            ]
          },
          "metadata": {},
          "execution_count": 32
        }
      ]
    },
    {
      "cell_type": "code",
      "source": [
        "ones_tensor.dtype"
      ],
      "metadata": {
        "colab": {
          "base_uri": "https://localhost:8080/"
        },
        "id": "-mfhYR6CdPWR",
        "outputId": "18aa8ee4-5110-4e43-deb1-45afbff6937c"
      },
      "execution_count": 33,
      "outputs": [
        {
          "output_type": "execute_result",
          "data": {
            "text/plain": [
              "torch.float32"
            ]
          },
          "metadata": {},
          "execution_count": 33
        }
      ]
    },
    {
      "cell_type": "code",
      "source": [
        "zeros = torch.zeros(100,100)\n",
        "zeros"
      ],
      "metadata": {
        "colab": {
          "base_uri": "https://localhost:8080/"
        },
        "id": "WC3DUs_NdRTg",
        "outputId": "b5af017a-257e-4cd6-e408-92a91f0f59a4"
      },
      "execution_count": 34,
      "outputs": [
        {
          "output_type": "execute_result",
          "data": {
            "text/plain": [
              "tensor([[0., 0., 0.,  ..., 0., 0., 0.],\n",
              "        [0., 0., 0.,  ..., 0., 0., 0.],\n",
              "        [0., 0., 0.,  ..., 0., 0., 0.],\n",
              "        ...,\n",
              "        [0., 0., 0.,  ..., 0., 0., 0.],\n",
              "        [0., 0., 0.,  ..., 0., 0., 0.],\n",
              "        [0., 0., 0.,  ..., 0., 0., 0.]])"
            ]
          },
          "metadata": {},
          "execution_count": 34
        }
      ]
    },
    {
      "cell_type": "code",
      "source": [
        "ones = torch.ones(100,100)\n",
        "ones"
      ],
      "metadata": {
        "colab": {
          "base_uri": "https://localhost:8080/"
        },
        "id": "IWEH9tP9doNl",
        "outputId": "67d810b1-c053-4867-8889-c4813686e969"
      },
      "execution_count": 35,
      "outputs": [
        {
          "output_type": "execute_result",
          "data": {
            "text/plain": [
              "tensor([[1., 1., 1.,  ..., 1., 1., 1.],\n",
              "        [1., 1., 1.,  ..., 1., 1., 1.],\n",
              "        [1., 1., 1.,  ..., 1., 1., 1.],\n",
              "        ...,\n",
              "        [1., 1., 1.,  ..., 1., 1., 1.],\n",
              "        [1., 1., 1.,  ..., 1., 1., 1.],\n",
              "        [1., 1., 1.,  ..., 1., 1., 1.]])"
            ]
          },
          "metadata": {},
          "execution_count": 35
        }
      ]
    },
    {
      "cell_type": "markdown",
      "source": [
        "## Arange tensors and tensors like"
      ],
      "metadata": {
        "id": "7tdMBmlMeQYu"
      }
    },
    {
      "cell_type": "code",
      "source": [
        "# using arange function\n",
        "\n",
        "one_to_ten = torch.arange(1,11)\n",
        "one_to_ten"
      ],
      "metadata": {
        "colab": {
          "base_uri": "https://localhost:8080/"
        },
        "id": "llGONsSod8uK",
        "outputId": "e59b1b08-add8-433d-8b5d-00d9c107ae64"
      },
      "execution_count": 36,
      "outputs": [
        {
          "output_type": "execute_result",
          "data": {
            "text/plain": [
              "tensor([ 1,  2,  3,  4,  5,  6,  7,  8,  9, 10])"
            ]
          },
          "metadata": {},
          "execution_count": 36
        }
      ]
    },
    {
      "cell_type": "code",
      "source": [
        "arange_tensor = torch.arange(start = 1, end = 1000, step = 45)\n",
        "arange_tensor"
      ],
      "metadata": {
        "colab": {
          "base_uri": "https://localhost:8080/"
        },
        "id": "_4y1LV59ebFt",
        "outputId": "380bdf33-2c4a-4769-fd01-3cf916ea321f"
      },
      "execution_count": 37,
      "outputs": [
        {
          "output_type": "execute_result",
          "data": {
            "text/plain": [
              "tensor([  1,  46,  91, 136, 181, 226, 271, 316, 361, 406, 451, 496, 541, 586,\n",
              "        631, 676, 721, 766, 811, 856, 901, 946, 991])"
            ]
          },
          "metadata": {},
          "execution_count": 37
        }
      ]
    },
    {
      "cell_type": "code",
      "source": [
        "torch.__version__"
      ],
      "metadata": {
        "colab": {
          "base_uri": "https://localhost:8080/",
          "height": 36
        },
        "id": "2h2HVRSpebBc",
        "outputId": "40981542-1fd6-4390-dcaf-68ed85f432ec"
      },
      "execution_count": 38,
      "outputs": [
        {
          "output_type": "execute_result",
          "data": {
            "text/plain": [
              "'2.8.0+cu126'"
            ],
            "application/vnd.google.colaboratory.intrinsic+json": {
              "type": "string"
            }
          },
          "metadata": {},
          "execution_count": 38
        }
      ]
    },
    {
      "cell_type": "code",
      "source": [
        "# creating tensors like\n",
        "one_to_ten"
      ],
      "metadata": {
        "colab": {
          "base_uri": "https://localhost:8080/"
        },
        "id": "fuGQPRfuea_h",
        "outputId": "35a2e7fa-3d06-4d0d-ec0b-fcf90e4bafce"
      },
      "execution_count": 39,
      "outputs": [
        {
          "output_type": "execute_result",
          "data": {
            "text/plain": [
              "tensor([ 1,  2,  3,  4,  5,  6,  7,  8,  9, 10])"
            ]
          },
          "metadata": {},
          "execution_count": 39
        }
      ]
    },
    {
      "cell_type": "code",
      "source": [
        "ten_zeros = torch.zeros_like(one_to_ten)\n",
        "ten_zeros"
      ],
      "metadata": {
        "colab": {
          "base_uri": "https://localhost:8080/"
        },
        "id": "g2Cu6aUffDM1",
        "outputId": "b82da753-c8b7-4358-815c-f91ee25ee908"
      },
      "execution_count": 40,
      "outputs": [
        {
          "output_type": "execute_result",
          "data": {
            "text/plain": [
              "tensor([0, 0, 0, 0, 0, 0, 0, 0, 0, 0])"
            ]
          },
          "metadata": {},
          "execution_count": 40
        }
      ]
    },
    {
      "cell_type": "code",
      "source": [
        "ten_ones = torch.ones_like(one_to_ten)\n",
        "ten_ones"
      ],
      "metadata": {
        "colab": {
          "base_uri": "https://localhost:8080/"
        },
        "id": "PIHiXDyZfJxv",
        "outputId": "2a4db7af-baf9-4ff8-def6-3e455c9dba0d"
      },
      "execution_count": 41,
      "outputs": [
        {
          "output_type": "execute_result",
          "data": {
            "text/plain": [
              "tensor([1, 1, 1, 1, 1, 1, 1, 1, 1, 1])"
            ]
          },
          "metadata": {},
          "execution_count": 41
        }
      ]
    },
    {
      "cell_type": "markdown",
      "source": [
        "# Tensor Datatypes"
      ],
      "metadata": {
        "id": "s6Wf5xERfhHa"
      }
    },
    {
      "cell_type": "code",
      "source": [
        "float_32 = torch.tensor([1,2,3,4,5.32])\n",
        "float_32"
      ],
      "metadata": {
        "colab": {
          "base_uri": "https://localhost:8080/"
        },
        "id": "wtCxHL1AfRK2",
        "outputId": "da58d372-888e-40a1-b0d1-3008890f031f"
      },
      "execution_count": 42,
      "outputs": [
        {
          "output_type": "execute_result",
          "data": {
            "text/plain": [
              "tensor([1.0000, 2.0000, 3.0000, 4.0000, 5.3200])"
            ]
          },
          "metadata": {},
          "execution_count": 42
        }
      ]
    },
    {
      "cell_type": "code",
      "source": [
        "float_32.dtype"
      ],
      "metadata": {
        "colab": {
          "base_uri": "https://localhost:8080/"
        },
        "id": "MIM2H9UCfzqd",
        "outputId": "66fa57e1-52ac-4013-eb1c-54953788ffbc"
      },
      "execution_count": 43,
      "outputs": [
        {
          "output_type": "execute_result",
          "data": {
            "text/plain": [
              "torch.float32"
            ]
          },
          "metadata": {},
          "execution_count": 43
        }
      ]
    },
    {
      "cell_type": "code",
      "source": [
        "float_16 = torch.tensor([1,2,4,5,6], dtype = torch.float16)\n",
        "float_16"
      ],
      "metadata": {
        "colab": {
          "base_uri": "https://localhost:8080/"
        },
        "id": "ZyJ-I0qof4l2",
        "outputId": "1ebb23c6-bf26-4f2d-b2b2-8113400ffbfb"
      },
      "execution_count": 44,
      "outputs": [
        {
          "output_type": "execute_result",
          "data": {
            "text/plain": [
              "tensor([1., 2., 4., 5., 6.], dtype=torch.float16)"
            ]
          },
          "metadata": {},
          "execution_count": 44
        }
      ]
    },
    {
      "cell_type": "code",
      "source": [
        "float_64 = torch.tensor([11,22,33,44,55], dtype = torch.float64)\n",
        "float_64"
      ],
      "metadata": {
        "colab": {
          "base_uri": "https://localhost:8080/"
        },
        "id": "6OzsOFjhgQ_W",
        "outputId": "cea27826-f434-4bb7-f229-ea8327dfaab4"
      },
      "execution_count": 45,
      "outputs": [
        {
          "output_type": "execute_result",
          "data": {
            "text/plain": [
              "tensor([11., 22., 33., 44., 55.], dtype=torch.float64)"
            ]
          },
          "metadata": {},
          "execution_count": 45
        }
      ]
    },
    {
      "cell_type": "markdown",
      "source": [
        "# Tensor Attributes"
      ],
      "metadata": {
        "id": "x2Tj5Em94T8F"
      }
    },
    {
      "cell_type": "code",
      "source": [
        "some_tensor = torch.rand(3,3)"
      ],
      "metadata": {
        "id": "mEicIhMj4SuQ"
      },
      "execution_count": 46,
      "outputs": []
    },
    {
      "cell_type": "code",
      "source": [
        "print(some_tensor)\n",
        "print(f\"Datatype of tensor: {some_tensor.dtype}\")\n",
        "print(f\"Shape of tensor: {some_tensor.shape}\")\n",
        "print(f\"Device tensor is on: {some_tensor.device}\")"
      ],
      "metadata": {
        "colab": {
          "base_uri": "https://localhost:8080/"
        },
        "id": "kJ4A9B6mgdTv",
        "outputId": "403476d6-d4e1-4385-abc7-0fab09b362dc"
      },
      "execution_count": 47,
      "outputs": [
        {
          "output_type": "stream",
          "name": "stdout",
          "text": [
            "tensor([[0.8918, 0.3399, 0.5284],\n",
            "        [0.6958, 0.1314, 0.4136],\n",
            "        [0.4406, 0.3735, 0.3204]])\n",
            "Datatype of tensor: torch.float32\n",
            "Shape of tensor: torch.Size([3, 3])\n",
            "Device tensor is on: cpu\n"
          ]
        }
      ]
    },
    {
      "cell_type": "markdown",
      "source": [
        "# Tensors Operations"
      ],
      "metadata": {
        "id": "fZaWH_wS5NCa"
      }
    },
    {
      "cell_type": "code",
      "source": [
        "# create a tensor\n",
        "\n",
        "tensor = torch.tensor([12,334,54])\n",
        "tensor"
      ],
      "metadata": {
        "colab": {
          "base_uri": "https://localhost:8080/"
        },
        "id": "3wYKuW-54l-S",
        "outputId": "01c3d460-fd09-46a5-bec7-4a6be7d62b7f"
      },
      "execution_count": 48,
      "outputs": [
        {
          "output_type": "execute_result",
          "data": {
            "text/plain": [
              "tensor([ 12, 334,  54])"
            ]
          },
          "metadata": {},
          "execution_count": 48
        }
      ]
    },
    {
      "cell_type": "code",
      "source": [
        "# multiply tensor\n",
        "tensor * 122"
      ],
      "metadata": {
        "colab": {
          "base_uri": "https://localhost:8080/"
        },
        "id": "CLBzwrUC5Pkf",
        "outputId": "50ce0c40-38e6-472c-e048-33dc9b895538"
      },
      "execution_count": 49,
      "outputs": [
        {
          "output_type": "execute_result",
          "data": {
            "text/plain": [
              "tensor([ 1464, 40748,  6588])"
            ]
          },
          "metadata": {},
          "execution_count": 49
        }
      ]
    },
    {
      "cell_type": "code",
      "source": [
        "# adding tensor\n",
        "tensor + 190"
      ],
      "metadata": {
        "colab": {
          "base_uri": "https://localhost:8080/"
        },
        "id": "zp9L7OUc5s4f",
        "outputId": "97ebc44f-50b7-4d84-abe0-c75afb91c485"
      },
      "execution_count": 50,
      "outputs": [
        {
          "output_type": "execute_result",
          "data": {
            "text/plain": [
              "tensor([202, 524, 244])"
            ]
          },
          "metadata": {},
          "execution_count": 50
        }
      ]
    },
    {
      "cell_type": "code",
      "source": [
        "# subtracting tensor\n",
        "tensor - 100"
      ],
      "metadata": {
        "colab": {
          "base_uri": "https://localhost:8080/"
        },
        "id": "4Iswo_oV55Rf",
        "outputId": "3151ab52-4637-43c3-ef62-2d3b133776c6"
      },
      "execution_count": 51,
      "outputs": [
        {
          "output_type": "execute_result",
          "data": {
            "text/plain": [
              "tensor([-88, 234, -46])"
            ]
          },
          "metadata": {},
          "execution_count": 51
        }
      ]
    },
    {
      "cell_type": "code",
      "source": [
        "# multiply tensor\n",
        "torch.mul(tensor, 10)"
      ],
      "metadata": {
        "colab": {
          "base_uri": "https://localhost:8080/"
        },
        "id": "G5xezMXP57a2",
        "outputId": "e806977c-6cd0-4870-fe42-85122d88c5af"
      },
      "execution_count": 52,
      "outputs": [
        {
          "output_type": "execute_result",
          "data": {
            "text/plain": [
              "tensor([ 120, 3340,  540])"
            ]
          },
          "metadata": {},
          "execution_count": 52
        }
      ]
    },
    {
      "cell_type": "code",
      "source": [
        "# addition of tensor\n",
        "torch.add(tensor, 212)"
      ],
      "metadata": {
        "colab": {
          "base_uri": "https://localhost:8080/"
        },
        "id": "hNI_uo3A6A2J",
        "outputId": "f3ca3417-567e-43da-b09a-1f217c3e2a88"
      },
      "execution_count": 53,
      "outputs": [
        {
          "output_type": "execute_result",
          "data": {
            "text/plain": [
              "tensor([224, 546, 266])"
            ]
          },
          "metadata": {},
          "execution_count": 53
        }
      ]
    },
    {
      "cell_type": "code",
      "source": [
        "tensor1 = torch.rand((2,3))\n",
        "tensor2 = torch.rand((3,2))\n",
        "print(tensor1)\n",
        "print(tensor2)"
      ],
      "metadata": {
        "colab": {
          "base_uri": "https://localhost:8080/"
        },
        "id": "diTGwuLT6FqU",
        "outputId": "2f501c27-9c8f-4b09-e899-06022479f09c"
      },
      "execution_count": 54,
      "outputs": [
        {
          "output_type": "stream",
          "name": "stdout",
          "text": [
            "tensor([[0.3525, 0.6666, 0.9657],\n",
            "        [0.8707, 0.2224, 0.5524]])\n",
            "tensor([[0.2810, 0.3537],\n",
            "        [0.1978, 0.9150],\n",
            "        [0.0524, 0.4283]])\n"
          ]
        }
      ]
    },
    {
      "cell_type": "code",
      "source": [
        "torch.matmul(tensor1, tensor2)"
      ],
      "metadata": {
        "colab": {
          "base_uri": "https://localhost:8080/"
        },
        "id": "ihZpcGdtDGtH",
        "outputId": "e77d2ffd-e4a5-4d34-8bfa-3ec51318a9f8"
      },
      "execution_count": 55,
      "outputs": [
        {
          "output_type": "execute_result",
          "data": {
            "text/plain": [
              "tensor([[0.2815, 1.1482],\n",
              "        [0.3176, 0.7481]])"
            ]
          },
          "metadata": {},
          "execution_count": 55
        }
      ]
    },
    {
      "cell_type": "code",
      "source": [
        "tensor2 = torch.rand((3,2))\n",
        "tensor1 = torch.rand((2,3))\n",
        "print(tensor1)\n",
        "print(tensor2)"
      ],
      "metadata": {
        "colab": {
          "base_uri": "https://localhost:8080/"
        },
        "id": "XcdZ2qVJDM5S",
        "outputId": "c9e060da-3a3a-49aa-fcb3-e061784fe5a3"
      },
      "execution_count": 56,
      "outputs": [
        {
          "output_type": "stream",
          "name": "stdout",
          "text": [
            "tensor([[0.7486, 0.7122, 0.9593],\n",
            "        [0.5497, 0.9630, 0.1311]])\n",
            "tensor([[0.6016, 0.6983],\n",
            "        [0.5695, 0.5205],\n",
            "        [0.4786, 0.4456]])\n"
          ]
        }
      ]
    },
    {
      "cell_type": "code",
      "source": [
        "torch.matmul(tensor2, tensor1)"
      ],
      "metadata": {
        "colab": {
          "base_uri": "https://localhost:8080/"
        },
        "id": "f9rVhk0jDvPY",
        "outputId": "98ef5570-85dd-49e5-c7df-765ba06a2a00"
      },
      "execution_count": 57,
      "outputs": [
        {
          "output_type": "execute_result",
          "data": {
            "text/plain": [
              "tensor([[0.8341, 1.1009, 0.6686],\n",
              "        [0.7124, 0.9069, 0.6145],\n",
              "        [0.6031, 0.7699, 0.5175]])"
            ]
          },
          "metadata": {},
          "execution_count": 57
        }
      ]
    },
    {
      "cell_type": "markdown",
      "source": [
        "# Tensors Aggregation"
      ],
      "metadata": {
        "id": "U38ExP1OFnWn"
      }
    },
    {
      "cell_type": "code",
      "source": [
        "# create a tensor\n",
        "x = torch.arange(0,100,10)\n",
        "x"
      ],
      "metadata": {
        "colab": {
          "base_uri": "https://localhost:8080/"
        },
        "id": "ddTfgNUQD0Gb",
        "outputId": "092bedfa-a73a-43ed-ae3f-7952ffe3bcfd"
      },
      "execution_count": 58,
      "outputs": [
        {
          "output_type": "execute_result",
          "data": {
            "text/plain": [
              "tensor([ 0, 10, 20, 30, 40, 50, 60, 70, 80, 90])"
            ]
          },
          "metadata": {},
          "execution_count": 58
        }
      ]
    },
    {
      "cell_type": "code",
      "source": [
        "torch.max(x)"
      ],
      "metadata": {
        "colab": {
          "base_uri": "https://localhost:8080/"
        },
        "id": "zJdQlosfFwcp",
        "outputId": "4d700993-a4dd-40b7-fd97-5f6b86560058"
      },
      "execution_count": 59,
      "outputs": [
        {
          "output_type": "execute_result",
          "data": {
            "text/plain": [
              "tensor(90)"
            ]
          },
          "metadata": {},
          "execution_count": 59
        }
      ]
    },
    {
      "cell_type": "code",
      "source": [
        "torch.min(x)"
      ],
      "metadata": {
        "colab": {
          "base_uri": "https://localhost:8080/"
        },
        "id": "Ixkr0eCBF4nf",
        "outputId": "89018b69-5731-402b-d9cf-d4d636825eba"
      },
      "execution_count": 60,
      "outputs": [
        {
          "output_type": "execute_result",
          "data": {
            "text/plain": [
              "tensor(0)"
            ]
          },
          "metadata": {},
          "execution_count": 60
        }
      ]
    },
    {
      "cell_type": "code",
      "source": [
        "torch.mean(x, dtype=torch.float16)"
      ],
      "metadata": {
        "colab": {
          "base_uri": "https://localhost:8080/"
        },
        "id": "lsMKhZ6gF6Lf",
        "outputId": "75032416-d4d3-4e57-eee6-c6b4b4fa3727"
      },
      "execution_count": 61,
      "outputs": [
        {
          "output_type": "execute_result",
          "data": {
            "text/plain": [
              "tensor(45., dtype=torch.float16)"
            ]
          },
          "metadata": {},
          "execution_count": 61
        }
      ]
    },
    {
      "cell_type": "code",
      "source": [
        "torch.sum(x)"
      ],
      "metadata": {
        "colab": {
          "base_uri": "https://localhost:8080/"
        },
        "id": "U9iz1PZHF8mb",
        "outputId": "e0aa87c6-077f-4ab2-c9f2-7a500424845e"
      },
      "execution_count": 62,
      "outputs": [
        {
          "output_type": "execute_result",
          "data": {
            "text/plain": [
              "tensor(450)"
            ]
          },
          "metadata": {},
          "execution_count": 62
        }
      ]
    },
    {
      "cell_type": "markdown",
      "source": [
        "# Finding positional min and **max**"
      ],
      "metadata": {
        "id": "dea5wZgtG8ma"
      }
    },
    {
      "cell_type": "code",
      "source": [
        "x"
      ],
      "metadata": {
        "colab": {
          "base_uri": "https://localhost:8080/"
        },
        "id": "oCJHHT71GoAc",
        "outputId": "527615f8-6163-4c2d-c81d-2a474d3473b4"
      },
      "execution_count": 63,
      "outputs": [
        {
          "output_type": "execute_result",
          "data": {
            "text/plain": [
              "tensor([ 0, 10, 20, 30, 40, 50, 60, 70, 80, 90])"
            ]
          },
          "metadata": {},
          "execution_count": 63
        }
      ]
    },
    {
      "cell_type": "code",
      "source": [
        "torch.argmin(x)"
      ],
      "metadata": {
        "colab": {
          "base_uri": "https://localhost:8080/"
        },
        "id": "Bk3xFc1VHCUO",
        "outputId": "53f0062e-72c0-4b33-aad3-306a238d2d5a"
      },
      "execution_count": 64,
      "outputs": [
        {
          "output_type": "execute_result",
          "data": {
            "text/plain": [
              "tensor(0)"
            ]
          },
          "metadata": {},
          "execution_count": 64
        }
      ]
    },
    {
      "cell_type": "code",
      "source": [
        "torch.argmax(x)"
      ],
      "metadata": {
        "colab": {
          "base_uri": "https://localhost:8080/"
        },
        "id": "YhQyL3AOHEij",
        "outputId": "585bad44-90ae-4139-e765-8688b87ad979"
      },
      "execution_count": 65,
      "outputs": [
        {
          "output_type": "execute_result",
          "data": {
            "text/plain": [
              "tensor(9)"
            ]
          },
          "metadata": {},
          "execution_count": 65
        }
      ]
    },
    {
      "cell_type": "markdown",
      "source": [
        "# Reshaping, Stacking, Squeezing and Unsqueezing Tensors"
      ],
      "metadata": {
        "id": "ZcF3qy7MxcF5"
      }
    },
    {
      "cell_type": "code",
      "source": [
        "x = torch.arange(1,10)\n",
        "x"
      ],
      "metadata": {
        "id": "oKkEow9mHQOo",
        "colab": {
          "base_uri": "https://localhost:8080/"
        },
        "outputId": "970b344a-647e-4bb6-c21a-8c39b4c477d4"
      },
      "execution_count": 66,
      "outputs": [
        {
          "output_type": "execute_result",
          "data": {
            "text/plain": [
              "tensor([1, 2, 3, 4, 5, 6, 7, 8, 9])"
            ]
          },
          "metadata": {},
          "execution_count": 66
        }
      ]
    },
    {
      "cell_type": "code",
      "source": [
        "x_reshaped = x.reshape(1,3,3)\n",
        "x_reshaped"
      ],
      "metadata": {
        "colab": {
          "base_uri": "https://localhost:8080/"
        },
        "id": "H5AuDuCYq67C",
        "outputId": "15450211-6516-42cb-fa5f-b94c18f5c8a1"
      },
      "execution_count": 68,
      "outputs": [
        {
          "output_type": "execute_result",
          "data": {
            "text/plain": [
              "tensor([[[1, 2, 3],\n",
              "         [4, 5, 6],\n",
              "         [7, 8, 9]]])"
            ]
          },
          "metadata": {},
          "execution_count": 68
        }
      ]
    },
    {
      "cell_type": "code",
      "source": [
        "x_reshaped2 = x.reshape(9,1)\n",
        "x_reshaped2"
      ],
      "metadata": {
        "colab": {
          "base_uri": "https://localhost:8080/"
        },
        "id": "724qp91CrK2r",
        "outputId": "8b671d3b-4604-4e23-d99e-1e9405ae4948"
      },
      "execution_count": 69,
      "outputs": [
        {
          "output_type": "execute_result",
          "data": {
            "text/plain": [
              "tensor([[1],\n",
              "        [2],\n",
              "        [3],\n",
              "        [4],\n",
              "        [5],\n",
              "        [6],\n",
              "        [7],\n",
              "        [8],\n",
              "        [9]])"
            ]
          },
          "metadata": {},
          "execution_count": 69
        }
      ]
    },
    {
      "cell_type": "code",
      "source": [
        "# stack\n",
        "x_stacked = torch.stack([x,x,x,x,x,x,x,x,x])\n",
        "x_stacked"
      ],
      "metadata": {
        "colab": {
          "base_uri": "https://localhost:8080/"
        },
        "id": "b6s-VR6orZ_l",
        "outputId": "1f983c3a-bd4a-4de6-d64b-dd3223de8924"
      },
      "execution_count": 71,
      "outputs": [
        {
          "output_type": "execute_result",
          "data": {
            "text/plain": [
              "tensor([[1, 2, 3, 4, 5, 6, 7, 8, 9],\n",
              "        [1, 2, 3, 4, 5, 6, 7, 8, 9],\n",
              "        [1, 2, 3, 4, 5, 6, 7, 8, 9],\n",
              "        [1, 2, 3, 4, 5, 6, 7, 8, 9],\n",
              "        [1, 2, 3, 4, 5, 6, 7, 8, 9],\n",
              "        [1, 2, 3, 4, 5, 6, 7, 8, 9],\n",
              "        [1, 2, 3, 4, 5, 6, 7, 8, 9],\n",
              "        [1, 2, 3, 4, 5, 6, 7, 8, 9],\n",
              "        [1, 2, 3, 4, 5, 6, 7, 8, 9]])"
            ]
          },
          "metadata": {},
          "execution_count": 71
        }
      ]
    },
    {
      "cell_type": "code",
      "source": [
        "# torch squeeze\n",
        "x_squeezed = torch.arange(1,9)\n",
        "x_squeezed = x_squeezed.reshape(1,8)\n",
        "x_squeezed.shape"
      ],
      "metadata": {
        "colab": {
          "base_uri": "https://localhost:8080/"
        },
        "id": "fVqIadM-rviO",
        "outputId": "bb953681-9a8a-4881-d759-da29285f2193"
      },
      "execution_count": 76,
      "outputs": [
        {
          "output_type": "execute_result",
          "data": {
            "text/plain": [
              "torch.Size([1, 8])"
            ]
          },
          "metadata": {},
          "execution_count": 76
        }
      ]
    },
    {
      "cell_type": "code",
      "source": [
        "x_squeezed"
      ],
      "metadata": {
        "colab": {
          "base_uri": "https://localhost:8080/"
        },
        "id": "MAqIygtrsDrD",
        "outputId": "1bc1283c-af99-4e3f-9a14-480df48ab316"
      },
      "execution_count": 77,
      "outputs": [
        {
          "output_type": "execute_result",
          "data": {
            "text/plain": [
              "tensor([[1, 2, 3, 4, 5, 6, 7, 8]])"
            ]
          },
          "metadata": {},
          "execution_count": 77
        }
      ]
    },
    {
      "cell_type": "code",
      "source": [
        "x_squeezed.squeeze()"
      ],
      "metadata": {
        "colab": {
          "base_uri": "https://localhost:8080/"
        },
        "id": "Gp840pIxsXck",
        "outputId": "a20bca4f-91cd-421d-ec02-3a90f9ed3b53"
      },
      "execution_count": 78,
      "outputs": [
        {
          "output_type": "execute_result",
          "data": {
            "text/plain": [
              "tensor([1, 2, 3, 4, 5, 6, 7, 8])"
            ]
          },
          "metadata": {},
          "execution_count": 78
        }
      ]
    },
    {
      "cell_type": "code",
      "source": [
        "# torch unsqueezed\n",
        "x_unsqueezed = x_squeezed.unsqueeze(dim = 0)\n",
        "x_unsqueezed"
      ],
      "metadata": {
        "colab": {
          "base_uri": "https://localhost:8080/"
        },
        "id": "BdoYS44rsa6m",
        "outputId": "44d70a42-ee44-4fe5-bc5b-b32a65deca96"
      },
      "execution_count": 79,
      "outputs": [
        {
          "output_type": "execute_result",
          "data": {
            "text/plain": [
              "tensor([[[1, 2, 3, 4, 5, 6, 7, 8]]])"
            ]
          },
          "metadata": {},
          "execution_count": 79
        }
      ]
    },
    {
      "cell_type": "markdown",
      "source": [
        "# Indexing in Torch"
      ],
      "metadata": {
        "id": "LbnFZr-Uso-R"
      }
    },
    {
      "cell_type": "code",
      "source": [
        "y = torch.arange(1,10).reshape(1,3,3)\n",
        "y, y.shape"
      ],
      "metadata": {
        "colab": {
          "base_uri": "https://localhost:8080/"
        },
        "id": "TTX8eXtlsjMi",
        "outputId": "c5d7ce1b-1f03-414c-acb5-5b55c7608128"
      },
      "execution_count": 82,
      "outputs": [
        {
          "output_type": "execute_result",
          "data": {
            "text/plain": [
              "(tensor([[[1, 2, 3],\n",
              "          [4, 5, 6],\n",
              "          [7, 8, 9]]]),\n",
              " torch.Size([1, 3, 3]))"
            ]
          },
          "metadata": {},
          "execution_count": 82
        }
      ]
    },
    {
      "cell_type": "code",
      "source": [
        "y[0]"
      ],
      "metadata": {
        "colab": {
          "base_uri": "https://localhost:8080/"
        },
        "id": "qHerBX7os4kQ",
        "outputId": "e911f70c-1fe2-47eb-f7e8-cc3a5b93174b"
      },
      "execution_count": 83,
      "outputs": [
        {
          "output_type": "execute_result",
          "data": {
            "text/plain": [
              "tensor([[1, 2, 3],\n",
              "        [4, 5, 6],\n",
              "        [7, 8, 9]])"
            ]
          },
          "metadata": {},
          "execution_count": 83
        }
      ]
    },
    {
      "cell_type": "code",
      "source": [
        "y[0][0]"
      ],
      "metadata": {
        "colab": {
          "base_uri": "https://localhost:8080/"
        },
        "id": "WfCHpgtTs7qr",
        "outputId": "793c3c0d-241c-4ee3-8853-3d6c8c0b2532"
      },
      "execution_count": 84,
      "outputs": [
        {
          "output_type": "execute_result",
          "data": {
            "text/plain": [
              "tensor([1, 2, 3])"
            ]
          },
          "metadata": {},
          "execution_count": 84
        }
      ]
    },
    {
      "cell_type": "code",
      "source": [
        "y[0][1]"
      ],
      "metadata": {
        "colab": {
          "base_uri": "https://localhost:8080/"
        },
        "id": "qaH52SfntREB",
        "outputId": "59eadafe-2097-4d43-d603-f84c253acf30"
      },
      "execution_count": 85,
      "outputs": [
        {
          "output_type": "execute_result",
          "data": {
            "text/plain": [
              "tensor([4, 5, 6])"
            ]
          },
          "metadata": {},
          "execution_count": 85
        }
      ]
    },
    {
      "cell_type": "code",
      "source": [
        "y[0][2]"
      ],
      "metadata": {
        "colab": {
          "base_uri": "https://localhost:8080/"
        },
        "id": "Ro4yRq1otUDo",
        "outputId": "587717a5-b2f7-4ab7-e8f0-76748cab7f51"
      },
      "execution_count": 86,
      "outputs": [
        {
          "output_type": "execute_result",
          "data": {
            "text/plain": [
              "tensor([7, 8, 9])"
            ]
          },
          "metadata": {},
          "execution_count": 86
        }
      ]
    },
    {
      "cell_type": "code",
      "source": [
        "y[0][0][0]"
      ],
      "metadata": {
        "colab": {
          "base_uri": "https://localhost:8080/"
        },
        "id": "UwE709ZMtV9N",
        "outputId": "3daeda79-4fd3-402c-93e3-20d0a6faec89"
      },
      "execution_count": 88,
      "outputs": [
        {
          "output_type": "execute_result",
          "data": {
            "text/plain": [
              "tensor(1)"
            ]
          },
          "metadata": {},
          "execution_count": 88
        }
      ]
    },
    {
      "cell_type": "code",
      "source": [
        "y[0][2][2]"
      ],
      "metadata": {
        "colab": {
          "base_uri": "https://localhost:8080/"
        },
        "id": "ILTYjx42tYZ4",
        "outputId": "d9591d29-49de-413c-c184-0d73f634a111"
      },
      "execution_count": 89,
      "outputs": [
        {
          "output_type": "execute_result",
          "data": {
            "text/plain": [
              "tensor(9)"
            ]
          },
          "metadata": {},
          "execution_count": 89
        }
      ]
    },
    {
      "cell_type": "code",
      "source": [
        "y[:,0]"
      ],
      "metadata": {
        "colab": {
          "base_uri": "https://localhost:8080/"
        },
        "id": "-TKpkxX8t_7E",
        "outputId": "f71b47a9-0d92-49dd-f0c6-3fa168f90a6d"
      },
      "execution_count": 90,
      "outputs": [
        {
          "output_type": "execute_result",
          "data": {
            "text/plain": [
              "tensor([[1, 2, 3]])"
            ]
          },
          "metadata": {},
          "execution_count": 90
        }
      ]
    },
    {
      "cell_type": "code",
      "source": [
        "y[:,:,1]"
      ],
      "metadata": {
        "colab": {
          "base_uri": "https://localhost:8080/"
        },
        "id": "MWO5NHFZuTuu",
        "outputId": "0c9656d0-6603-4b02-9667-4aa3ccae660d"
      },
      "execution_count": 91,
      "outputs": [
        {
          "output_type": "execute_result",
          "data": {
            "text/plain": [
              "tensor([[2, 5, 8]])"
            ]
          },
          "metadata": {},
          "execution_count": 91
        }
      ]
    },
    {
      "cell_type": "code",
      "source": [
        "y[:,:,2]"
      ],
      "metadata": {
        "colab": {
          "base_uri": "https://localhost:8080/"
        },
        "id": "4lyl7KlVuWHx",
        "outputId": "b8cabfd7-fd9e-46de-ecf7-ce4923dab19d"
      },
      "execution_count": 92,
      "outputs": [
        {
          "output_type": "execute_result",
          "data": {
            "text/plain": [
              "tensor([[3, 6, 9]])"
            ]
          },
          "metadata": {},
          "execution_count": 92
        }
      ]
    },
    {
      "cell_type": "markdown",
      "source": [
        "# Pytorch tensors and numpy"
      ],
      "metadata": {
        "id": "UYKg-Hyrus4h"
      }
    },
    {
      "cell_type": "code",
      "source": [
        "array = np.array([1,23,4,56,7,9,564,453,1])\n",
        "array"
      ],
      "metadata": {
        "colab": {
          "base_uri": "https://localhost:8080/"
        },
        "id": "lSGuX7eCuZo1",
        "outputId": "e8fa8944-bef0-4ec2-98f2-fb1b89dd0c2b"
      },
      "execution_count": 95,
      "outputs": [
        {
          "output_type": "execute_result",
          "data": {
            "text/plain": [
              "array([  1,  23,   4,  56,   7,   9, 564, 453,   1])"
            ]
          },
          "metadata": {},
          "execution_count": 95
        }
      ]
    },
    {
      "cell_type": "code",
      "source": [
        "tensor = torch.from_numpy(array)\n",
        "tensor"
      ],
      "metadata": {
        "colab": {
          "base_uri": "https://localhost:8080/"
        },
        "id": "GlGfSjD9u_vD",
        "outputId": "4ffe4304-bff5-4eae-fc7a-106902b6b742"
      },
      "execution_count": 96,
      "outputs": [
        {
          "output_type": "execute_result",
          "data": {
            "text/plain": [
              "tensor([  1,  23,   4,  56,   7,   9, 564, 453,   1])"
            ]
          },
          "metadata": {},
          "execution_count": 96
        }
      ]
    },
    {
      "cell_type": "code",
      "source": [],
      "metadata": {
        "id": "q-w1V7aDvIXo"
      },
      "execution_count": null,
      "outputs": []
    }
  ]
}