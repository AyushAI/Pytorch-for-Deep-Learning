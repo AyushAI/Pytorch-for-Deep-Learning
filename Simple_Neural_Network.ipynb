{
  "nbformat": 4,
  "nbformat_minor": 0,
  "metadata": {
    "colab": {
      "provenance": []
    },
    "kernelspec": {
      "name": "python3",
      "display_name": "Python 3"
    },
    "language_info": {
      "name": "python"
    }
  },
  "cells": [
    {
      "cell_type": "code",
      "execution_count": 2,
      "metadata": {
        "id": "Zf3WZGe5td5A"
      },
      "outputs": [],
      "source": [
        "import torch\n",
        "import torch.nn as nn\n",
        "from torch.utils.data import DataLoader, TensorDataset\n",
        "import torch.optim as optim\n",
        "import matplotlib.pyplot as plt"
      ]
    },
    {
      "cell_type": "code",
      "source": [
        "# ---- 1) Reproducibility & device ----\n",
        "\n",
        "torch.manual_seed(42)\n",
        "device = torch.device(\"cuda\" if torch.cuda.is_available() else \"cpu\")\n",
        "device"
      ],
      "metadata": {
        "colab": {
          "base_uri": "https://localhost:8080/"
        },
        "id": "nywx-77-21fX",
        "outputId": "9a0f701f-0bb0-427c-b582-fea300748752"
      },
      "execution_count": 3,
      "outputs": [
        {
          "output_type": "execute_result",
          "data": {
            "text/plain": [
              "device(type='cpu')"
            ]
          },
          "metadata": {},
          "execution_count": 3
        }
      ]
    },
    {
      "cell_type": "code",
      "source": [
        "# ---- 2) Data: simple y = 2x + 1 ----\n",
        "x = torch.tensor([[1.0], [2.0], [3.0], [4.0]])   # shape (4, 1)\n",
        "y = torch.tensor([[3.0], [5.0], [7.0], [9.0]])   # shape (4, 1)\n",
        "\n",
        "dataset = TensorDataset(x, y)\n",
        "loader = DataLoader(dataset, batch_size=2, shuffle=True)  # small batches"
      ],
      "metadata": {
        "id": "R1jCOwnVYCE6"
      },
      "execution_count": 5,
      "outputs": []
    },
    {
      "cell_type": "code",
      "source": [
        "# ---- 3) Model defination (using class & nn.Module) ----\n",
        "\n",
        "class SimpleNet(nn.Module):\n",
        "  def __init__(self):\n",
        "    super(SimpleNet, self).__init__()\n",
        "    # single neuron : output = w*x + b\n",
        "    self.linear = nn.Linear(1, 1) # Corrected: pass input and output feature sizes\n",
        "\n",
        "  def forward(self, x):\n",
        "    # x shape : (batch, features)\n",
        "    return self.linear(x)\n",
        "\n",
        "model = SimpleNet().to(device)\n",
        "print(\"Initial parameters:\", list(model.parameters()))"
      ],
      "metadata": {
        "colab": {
          "base_uri": "https://localhost:8080/"
        },
        "id": "mmCroCVNYSjS",
        "outputId": "08c4128e-4c49-4f1a-a172-b48ba11227d5"
      },
      "execution_count": 7,
      "outputs": [
        {
          "output_type": "stream",
          "name": "stdout",
          "text": [
            "Initial parameters: [Parameter containing:\n",
            "tensor([[0.7645]], requires_grad=True), Parameter containing:\n",
            "tensor([0.8300], requires_grad=True)]\n"
          ]
        }
      ]
    },
    {
      "cell_type": "code",
      "source": [
        "# ---- 4) Loss and optimizer ----\n",
        "criterion = nn.MSELoss()               # mean squared error for regression\n",
        "optimizer = optim.SGD(model.parameters(), lr=0.01)  # simple SGD"
      ],
      "metadata": {
        "id": "QfSFtgWbZRlA"
      },
      "execution_count": 8,
      "outputs": []
    },
    {
      "cell_type": "code",
      "source": [
        "# ---- 5) Training loop ----\n",
        "epochs = 200\n",
        "loss_history = []\n",
        "\n",
        "for epoch in range(epochs):\n",
        "    epoch_losses = []\n",
        "    for xb, yb in loader:\n",
        "        xb, yb = xb.to(device), yb.to(device)\n",
        "\n",
        "        # forward\n",
        "        y_pred = model(xb)\n",
        "\n",
        "        # compute loss\n",
        "        loss = criterion(y_pred, yb)\n",
        "\n",
        "        # backward + optimize\n",
        "        optimizer.zero_grad()\n",
        "        loss.backward()\n",
        "        optimizer.step()\n",
        "\n",
        "        epoch_losses.append(loss.item())\n",
        "\n",
        "    loss_history.append(sum(epoch_losses) / len(epoch_losses))\n",
        "    if (epoch + 1) % 20 == 0:\n",
        "        print(f\"Epoch {epoch+1:03d}/{epochs}  Loss: {loss_history[-1]:.6f}\")\n"
      ],
      "metadata": {
        "colab": {
          "base_uri": "https://localhost:8080/"
        },
        "id": "RBF82JxtZyYD",
        "outputId": "6ad7e97e-8b30-4543-a7f6-58427ac5b5bf"
      },
      "execution_count": 10,
      "outputs": [
        {
          "output_type": "stream",
          "name": "stdout",
          "text": [
            "Epoch 020/200  Loss: 0.006569\n",
            "Epoch 040/200  Loss: 0.005139\n",
            "Epoch 060/200  Loss: 0.004043\n",
            "Epoch 080/200  Loss: 0.003172\n",
            "Epoch 100/200  Loss: 0.002480\n",
            "Epoch 120/200  Loss: 0.001951\n",
            "Epoch 140/200  Loss: 0.001619\n",
            "Epoch 160/200  Loss: 0.001198\n",
            "Epoch 180/200  Loss: 0.000934\n",
            "Epoch 200/200  Loss: 0.000781\n"
          ]
        }
      ]
    },
    {
      "cell_type": "code",
      "source": [
        "\n",
        "# ---- 6) After training: check learned params ----\n",
        "w = model.linear.weight.item()   # weight\n",
        "b = model.linear.bias.item()     # bias\n",
        "print(f\"Learned weight: {w:.4f}, Learned bias: {b:.4f}\")"
      ],
      "metadata": {
        "colab": {
          "base_uri": "https://localhost:8080/"
        },
        "id": "p-qOG6hhZ2XM",
        "outputId": "b3d85bb1-0c68-4a00-fe39-7937ad773f8d"
      },
      "execution_count": 11,
      "outputs": [
        {
          "output_type": "stream",
          "name": "stdout",
          "text": [
            "Learned weight: 1.9781, Learned bias: 1.0656\n"
          ]
        }
      ]
    },
    {
      "cell_type": "code",
      "source": [
        "# ---- 7) Inference on new data ----\n",
        "model.eval()\n",
        "with torch.no_grad():\n",
        "    test_x = torch.tensor([[5.0]]).to(device)\n",
        "    pred = model(test_x).item()\n",
        "print(f\"Prediction for x=5 -> {pred:.4f}   (expected 11)\")"
      ],
      "metadata": {
        "colab": {
          "base_uri": "https://localhost:8080/"
        },
        "id": "x7KoI3NdaB5x",
        "outputId": "2b7ab0e3-c462-486e-fcf3-15f67483ba25"
      },
      "execution_count": 12,
      "outputs": [
        {
          "output_type": "stream",
          "name": "stdout",
          "text": [
            "Prediction for x=5 -> 10.9560   (expected 11)\n"
          ]
        }
      ]
    },
    {
      "cell_type": "code",
      "source": [
        "# ---- 8) Plot loss (optional) ----\n",
        "plt.plot(loss_history)\n",
        "plt.xlabel(\"Epoch\")\n",
        "plt.ylabel(\"Loss (MSE)\")\n",
        "plt.title(\"Training Loss\")\n",
        "plt.show()"
      ],
      "metadata": {
        "colab": {
          "base_uri": "https://localhost:8080/",
          "height": 472
        },
        "id": "znXzm24haFDA",
        "outputId": "7e411556-7f9c-488b-af9d-ccfafaa13578"
      },
      "execution_count": 13,
      "outputs": [
        {
          "output_type": "display_data",
          "data": {
            "text/plain": [
              "<Figure size 640x480 with 1 Axes>"
            ],
            "image/png": "[encoded data removed]"
          },
          "metadata": {}
        }
      ]
    },
    {
      "cell_type": "code",
      "source": [
        "# ---- 9) Save model ----\n",
        "torch.save(model.state_dict(), \"simple_net.pth\")\n",
        "print(\"Model saved to simple_net.pth\")"
      ],
      "metadata": {
        "colab": {
          "base_uri": "https://localhost:8080/"
        },
        "id": "JIGrkaeIaHbR",
        "outputId": "9276a182-3827-4251-bf0e-5db9a88a5db9"
      },
      "execution_count": 14,
      "outputs": [
        {
          "output_type": "stream",
          "name": "stdout",
          "text": [
            "Model saved to simple_net.pth\n"
          ]
        }
      ]
    }
  ]
}